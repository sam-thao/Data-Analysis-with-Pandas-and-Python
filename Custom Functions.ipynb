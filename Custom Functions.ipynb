{
 "cells": [
  {
   "cell_type": "markdown",
   "id": "8000cd4e",
   "metadata": {},
   "source": [
    "# Custom Functions"
   ]
  },
  {
   "cell_type": "code",
   "execution_count": 1,
   "id": "b8f316d3",
   "metadata": {},
   "outputs": [],
   "source": [
    "# Declare a function that accepts a temperature in Celsius and returns it in Fahrenheit\n",
    "\n",
    "def convert_to_fahrenheit(celsius_temp):\n",
    "    product = celsius_temp * 1.8\n",
    "    return product + 32         \n",
    "    "
   ]
  },
  {
   "cell_type": "code",
   "execution_count": 3,
   "id": "b3771545",
   "metadata": {},
   "outputs": [
    {
     "data": {
      "text/plain": [
       "32.0"
      ]
     },
     "execution_count": 3,
     "metadata": {},
     "output_type": "execute_result"
    }
   ],
   "source": [
    "convert_to_fahrenheit(0)"
   ]
  },
  {
   "cell_type": "code",
   "execution_count": 4,
   "id": "2a50b175",
   "metadata": {},
   "outputs": [
    {
     "data": {
      "text/plain": [
       "57.2"
      ]
     },
     "execution_count": 4,
     "metadata": {},
     "output_type": "execute_result"
    }
   ],
   "source": [
    "convert_to_fahrenheit(14)"
   ]
  },
  {
   "cell_type": "code",
   "execution_count": 5,
   "id": "fa92ca05",
   "metadata": {},
   "outputs": [
    {
     "data": {
      "text/plain": [
       "77.0"
      ]
     },
     "execution_count": 5,
     "metadata": {},
     "output_type": "execute_result"
    }
   ],
   "source": [
    "convert_to_fahrenheit(25)"
   ]
  },
  {
   "cell_type": "code",
   "execution_count": 7,
   "id": "efa67af8",
   "metadata": {},
   "outputs": [
    {
     "data": {
      "text/plain": [
       "84.2"
      ]
     },
     "execution_count": 7,
     "metadata": {},
     "output_type": "execute_result"
    }
   ],
   "source": [
    "convert_to_fahrenheit(celsius_temp = 29)"
   ]
  },
  {
   "cell_type": "code",
   "execution_count": 8,
   "id": "c31bfd3d",
   "metadata": {},
   "outputs": [],
   "source": [
    "# Default Arguement\n",
    "\n",
    "def convert_to_fahrenheit(celsius_temp = 0):\n",
    "    product = celsius_temp * 1.8\n",
    "    return product + 32 \n"
   ]
  },
  {
   "cell_type": "code",
   "execution_count": 9,
   "id": "8b57bfaf",
   "metadata": {},
   "outputs": [
    {
     "data": {
      "text/plain": [
       "392.0"
      ]
     },
     "execution_count": 9,
     "metadata": {},
     "output_type": "execute_result"
    }
   ],
   "source": [
    "convert_to_fahrenheit(200)"
   ]
  },
  {
   "cell_type": "code",
   "execution_count": 10,
   "id": "d3d8fc39",
   "metadata": {},
   "outputs": [
    {
     "data": {
      "text/plain": [
       "32.0"
      ]
     },
     "execution_count": 10,
     "metadata": {},
     "output_type": "execute_result"
    }
   ],
   "source": [
    "convert_to_fahrenheit() #default "
   ]
  },
  {
   "cell_type": "markdown",
   "id": "b7b43656",
   "metadata": {},
   "source": [
    "# Custom Fuctions Excerise"
   ]
  },
  {
   "cell_type": "markdown",
   "id": "2bf6d72d",
   "metadata": {},
   "source": [
    "This exercise includes one Python file.\n",
    "\n",
    "Follow the instructions in the comments of the file to complete the challenge."
   ]
  },
  {
   "cell_type": "code",
   "execution_count": 11,
   "id": "f4330bc6",
   "metadata": {},
   "outputs": [],
   "source": [
    "# Define a easy_money function that accepts no parameters \n",
    "# and always returns the value 100.\n",
    "\n",
    "def easy_money():\n",
    "    return 100\n"
   ]
  },
  {
   "cell_type": "code",
   "execution_count": 12,
   "id": "e0ef05bc",
   "metadata": {},
   "outputs": [
    {
     "data": {
      "text/plain": [
       "100"
      ]
     },
     "execution_count": 12,
     "metadata": {},
     "output_type": "execute_result"
    }
   ],
   "source": [
    "easy_money()"
   ]
  },
  {
   "cell_type": "code",
   "execution_count": 16,
   "id": "c6783f3c",
   "metadata": {},
   "outputs": [],
   "source": [
    "# Define a best_food_ever function that accepts \n",
    "# no parameters and always returns the string “Sushi”.\n",
    "\n",
    "def best_food():\n",
    "    return 'sushi'"
   ]
  },
  {
   "cell_type": "code",
   "execution_count": 17,
   "id": "66ace198",
   "metadata": {},
   "outputs": [
    {
     "data": {
      "text/plain": [
       "'sushi'"
      ]
     },
     "execution_count": 17,
     "metadata": {},
     "output_type": "execute_result"
    }
   ],
   "source": [
    "best_food()"
   ]
  },
  {
   "cell_type": "code",
   "execution_count": 20,
   "id": "cd0017f1",
   "metadata": {},
   "outputs": [],
   "source": [
    "# Define a convert_to_currency function that accepts a single parameter (an integer). \n",
    "# The function should convert the argument to a string, prefix it with a dollar sign, and return the result.\n",
    "\n",
    "def convert_to_currency(amount):\n",
    "    return '$' + str(amount)"
   ]
  },
  {
   "cell_type": "code",
   "execution_count": 21,
   "id": "b75e7e45",
   "metadata": {},
   "outputs": [
    {
     "data": {
      "text/plain": [
       "'$100'"
      ]
     },
     "execution_count": 21,
     "metadata": {},
     "output_type": "execute_result"
    }
   ],
   "source": [
    "convert_to_currency(100)"
   ]
  },
  {
   "cell_type": "markdown",
   "id": "c02054ac",
   "metadata": {},
   "source": [
    "EXAMPLES:\n",
    "convert_to_currency(15)    => \"$15\"\n",
    "convert_to_currency(8)     => \"$8\""
   ]
  },
  {
   "cell_type": "code",
   "execution_count": 22,
   "id": "f4af0c7a",
   "metadata": {},
   "outputs": [
    {
     "data": {
      "text/plain": [
       "'$15'"
      ]
     },
     "execution_count": 22,
     "metadata": {},
     "output_type": "execute_result"
    }
   ],
   "source": [
    "convert_to_currency(15)"
   ]
  },
  {
   "cell_type": "code",
   "execution_count": 23,
   "id": "1b3d4917",
   "metadata": {},
   "outputs": [
    {
     "data": {
      "text/plain": [
       "'$8'"
      ]
     },
     "execution_count": 23,
     "metadata": {},
     "output_type": "execute_result"
    }
   ],
   "source": [
    "convert_to_currency(8)"
   ]
  },
  {
   "cell_type": "code",
   "execution_count": null,
   "id": "734feaf5",
   "metadata": {},
   "outputs": [],
   "source": []
  }
 ],
 "metadata": {
  "kernelspec": {
   "display_name": "Python 3 (ipykernel)",
   "language": "python",
   "name": "python3"
  },
  "language_info": {
   "codemirror_mode": {
    "name": "ipython",
    "version": 3
   },
   "file_extension": ".py",
   "mimetype": "text/x-python",
   "name": "python",
   "nbconvert_exporter": "python",
   "pygments_lexer": "ipython3",
   "version": "3.11.4"
  }
 },
 "nbformat": 4,
 "nbformat_minor": 5
}
