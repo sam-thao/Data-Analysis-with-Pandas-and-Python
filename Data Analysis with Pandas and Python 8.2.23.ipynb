{
 "cells": [
  {
   "cell_type": "markdown",
   "id": "27c50969",
   "metadata": {},
   "source": [
    "# Create a series Object from Python List"
   ]
  },
  {
   "cell_type": "code",
   "execution_count": 4,
   "id": "e2fe9896",
   "metadata": {},
   "outputs": [],
   "source": [
    "import pandas as pd\n"
   ]
  },
  {
   "cell_type": "code",
   "execution_count": 6,
   "id": "01843dad",
   "metadata": {},
   "outputs": [
    {
     "data": {
      "text/plain": [
       "0     Chocolate\n",
       "1       Vanilla\n",
       "2    Strawberry\n",
       "3    Rum Raisin\n",
       "dtype: object"
      ]
     },
     "execution_count": 6,
     "metadata": {},
     "output_type": "execute_result"
    }
   ],
   "source": [
    "ice_cream = ['Chocolate','Vanilla','Strawberry','Rum Raisin']\n",
    "\n",
    "# Series is a class\n",
    "\n",
    "pd.Series(ice_cream)"
   ]
  },
  {
   "cell_type": "code",
   "execution_count": 7,
   "id": "69414ab9",
   "metadata": {},
   "outputs": [
    {
     "data": {
      "text/plain": [
       "0     4\n",
       "1     8\n",
       "2    15\n",
       "3    12\n",
       "4    16\n",
       "5    23\n",
       "6    42\n",
       "dtype: int64"
      ]
     },
     "execution_count": 7,
     "metadata": {},
     "output_type": "execute_result"
    }
   ],
   "source": [
    "lottery = [4,8,15,12,16,23,42]\n",
    "\n",
    "pd.Series(lottery)"
   ]
  },
  {
   "cell_type": "code",
   "execution_count": 8,
   "id": "0ed64da5",
   "metadata": {},
   "outputs": [
    {
     "data": {
      "text/plain": [
       "0     True\n",
       "1    False\n",
       "2    False\n",
       "3     True\n",
       "4     True\n",
       "dtype: bool"
      ]
     },
     "execution_count": 8,
     "metadata": {},
     "output_type": "execute_result"
    }
   ],
   "source": [
    "registrations = [True,False,False,True,True]\n",
    "\n",
    "pd.Series(registrations)"
   ]
  },
  {
   "cell_type": "code",
   "execution_count": 9,
   "id": "5d71cdee",
   "metadata": {},
   "outputs": [
    {
     "data": {
      "text/plain": [
       "0        red\n",
       "1      green\n",
       "2       blue\n",
       "3     yellow\n",
       "4     orange\n",
       "5     purple\n",
       "6       pink\n",
       "7      brown\n",
       "8       cyan\n",
       "9    magenta\n",
       "dtype: object"
      ]
     },
     "execution_count": 9,
     "metadata": {},
     "output_type": "execute_result"
    }
   ],
   "source": [
    "colors_list = ['red', 'green', 'blue', 'yellow', 'orange', 'purple', 'pink', 'brown', 'cyan', 'magenta']\n",
    "\n",
    "pd.Series(colors_list)"
   ]
  },
  {
   "cell_type": "code",
   "execution_count": 10,
   "id": "2621cee6",
   "metadata": {},
   "outputs": [
    {
     "data": {
      "text/plain": [
       "0      1\n",
       "1      3\n",
       "2      5\n",
       "3      7\n",
       "4      9\n",
       "5     11\n",
       "6     13\n",
       "7     15\n",
       "8     17\n",
       "9     19\n",
       "10    21\n",
       "11    23\n",
       "12    25\n",
       "13    27\n",
       "14    29\n",
       "15    31\n",
       "16    33\n",
       "17    35\n",
       "18    37\n",
       "19    39\n",
       "dtype: int64"
      ]
     },
     "execution_count": 10,
     "metadata": {},
     "output_type": "execute_result"
    }
   ],
   "source": [
    "odd_numbers = [1, 3, 5, 7, 9, 11, 13, 15, 17, 19, 21, 23, 25, 27, 29, 31, 33, 35, 37, 39]\n",
    "\n",
    "pd.Series(odd_numbers)"
   ]
  },
  {
   "cell_type": "code",
   "execution_count": null,
   "id": "0c19c8fa",
   "metadata": {},
   "outputs": [],
   "source": []
  },
  {
   "cell_type": "code",
   "execution_count": 11,
   "id": "28510fc2",
   "metadata": {},
   "outputs": [
    {
     "data": {
      "text/plain": [
       "Salmon    Orange\n",
       "Tuna         Red\n",
       "Eel        Brown\n",
       "dtype: object"
      ]
     },
     "execution_count": 11,
     "metadata": {},
     "output_type": "execute_result"
    }
   ],
   "source": [
    "sushi = {\n",
    "    'Salmon':'Orange',\n",
    "    'Tuna':'Red',\n",
    "    'Eel':'Brown'    \n",
    "}\n",
    "\n",
    "pd.Series(sushi)"
   ]
  },
  {
   "cell_type": "code",
   "execution_count": 12,
   "id": "abf9db20",
   "metadata": {},
   "outputs": [
    {
     "data": {
      "text/plain": [
       "burger           {'price': 5.99, 'calories': 550, 'description'...\n",
       "pizza            {'price': 10.99, 'calories': 800, 'description...\n",
       "fried_chicken    {'price': 8.49, 'calories': 650, 'description'...\n",
       "taco             {'price': 3.99, 'calories': 400, 'description'...\n",
       "hot_dog          {'price': 4.49, 'calories': 500, 'description'...\n",
       "sushi            {'price': 12.99, 'calories': 450, 'description...\n",
       "dtype: object"
      ]
     },
     "execution_count": 12,
     "metadata": {},
     "output_type": "execute_result"
    }
   ],
   "source": [
    "fast_food_dict = {\n",
    "    'burger': {'price': 5.99, 'calories': 550, 'description': 'Classic beef burger with cheese and veggies.'},\n",
    "    'pizza': {'price': 10.99, 'calories': 800, 'description': 'Delicious pepperoni pizza with a crispy crust.'},\n",
    "    'fried_chicken': {'price': 8.49, 'calories': 650, 'description': 'Crispy fried chicken served with fries.'},\n",
    "    'taco': {'price': 3.99, 'calories': 400, 'description': 'Tasty taco with seasoned meat and toppings.'},\n",
    "    'hot_dog': {'price': 4.49, 'calories': 500, 'description': 'Classic hot dog with mustard and relish.'},\n",
    "    'sushi': {'price': 12.99, 'calories': 450, 'description': 'Fresh sushi rolls with soy sauce and wasabi.'}\n",
    "}\n",
    "\n",
    "pd.Series(fast_food_dict)"
   ]
  },
  {
   "cell_type": "code",
   "execution_count": 13,
   "id": "c86f30f8",
   "metadata": {},
   "outputs": [
    {
     "data": {
      "text/plain": [
       "Civic         [LX, EX, Touring]\n",
       "Accord     [LX, Sport, Touring]\n",
       "CR-V          [LX, EX, Touring]\n",
       "Pilot         [LX, EX-L, Elite]\n",
       "Odyssey         [LX, EX, Elite]\n",
       "HR-V          [LX, EX, Touring]\n",
       "dtype: object"
      ]
     },
     "execution_count": 13,
     "metadata": {},
     "output_type": "execute_result"
    }
   ],
   "source": [
    "honda_cars = {\n",
    "    'Civic': ['LX', 'EX', 'Touring'],\n",
    "    'Accord': ['LX', 'Sport', 'Touring'],\n",
    "    'CR-V': ['LX', 'EX', 'Touring'],\n",
    "    'Pilot': ['LX', 'EX-L', 'Elite'],\n",
    "    'Odyssey': ['LX', 'EX', 'Elite'],\n",
    "    'HR-V': ['LX', 'EX', 'Touring']\n",
    "}\n",
    "\n",
    "pd.Series(honda_cars)"
   ]
  },
  {
   "cell_type": "code",
   "execution_count": null,
   "id": "2467e127",
   "metadata": {},
   "outputs": [],
   "source": []
  },
  {
   "cell_type": "markdown",
   "id": "cee6efeb",
   "metadata": {},
   "source": [
    "# Create a Series Object v2\n",
    "Follow the instructions in the comments of the file below to complete the assignment.\n",
    "\n",
    "Click the \"Check solution\" button to check your work.\n",
    "\n",
    "#Import the pandas library and assign it its \"pd\" alias\n",
    "\n",
    "#Create a list with 4 countries - United States, France, Germany, Italy\n",
    "#Create a new Series by passing in the list of countries\n",
    "#Assign the Series to a \"countries\" variable\n",
    "\n",
    "\n",
    "#Create a list with 3 colors - red, green, blue\n",
    "#Create a new Series by passing in the list of colors\n",
    "#Assign the Series to a \"colors\" variable\n",
    "\n",
    "\n",
    "#Given the \"recipe\" dictionary below,\n",
    "#create a new Series by passing in the dictionary as the data source\n",
    "#Assign the resulting Series to a \"series_dict\" variable\n",
    "recipe = {\n",
    "  \"Flour\": True,\n",
    "  \"Sugar\": True,\n",
    "  \"Salt\": False\n",
    "}\n",
    "\n"
   ]
  },
  {
   "cell_type": "code",
   "execution_count": null,
   "id": "ec58e0ac",
   "metadata": {},
   "outputs": [],
   "source": [
    "import panda as pd\n",
    "\n",
    "countries_list = ['United States','France','Germany','Italy']\n",
    "countries = pd.Series(countries_list)\n",
    "print(countries)\n",
    "\n",
    "\n",
    "colors_list = ['red','green','blue']\n",
    "colors = pd.Series(colors_list)\n",
    "print(colors)\n",
    "\n",
    "recipe = {\n",
    "  \"Flour\": True,\n",
    "  \"Sugar\": True,\n",
    "  \"Salt\": False\n",
    "}\n",
    "\n",
    "series_dict = pd.Series(recipe)\n",
    "print(series_dict)"
   ]
  },
  {
   "cell_type": "code",
   "execution_count": 14,
   "id": "6d7a00e3",
   "metadata": {},
   "outputs": [],
   "source": []
  },
  {
   "cell_type": "markdown",
   "id": "7b03093f",
   "metadata": {},
   "source": [
    "# Intro to Methods"
   ]
  },
  {
   "cell_type": "markdown",
   "id": "ea4d59d5",
   "metadata": {},
   "source": [
    "Methods are functions that are associated with an object and are defined within a class. They allow objects to perform specific actions or operations, and they have access to the object's data and other methods within the same class. "
   ]
  },
  {
   "cell_type": "code",
   "execution_count": 15,
   "id": "6a4f9912",
   "metadata": {},
   "outputs": [
    {
     "data": {
      "text/plain": [
       "'HELLO'"
      ]
     },
     "execution_count": 15,
     "metadata": {},
     "output_type": "execute_result"
    }
   ],
   "source": [
    "'hello'.upper()"
   ]
  },
  {
   "cell_type": "code",
   "execution_count": 16,
   "id": "63df73ff",
   "metadata": {},
   "outputs": [
    {
     "data": {
      "text/plain": [
       "[1, 2, 3, 4]"
      ]
     },
     "execution_count": 16,
     "metadata": {},
     "output_type": "execute_result"
    }
   ],
   "source": [
    "values = [1,2,3]\n",
    "values.append(4)\n",
    "values"
   ]
  },
  {
   "cell_type": "code",
   "execution_count": 17,
   "id": "929f486f",
   "metadata": {},
   "outputs": [
    {
     "data": {
      "text/plain": [
       "0    7.329655\n",
       "1    6.063878\n",
       "2    5.044912\n",
       "3    9.309150\n",
       "4    1.348729\n",
       "dtype: float64"
      ]
     },
     "execution_count": 17,
     "metadata": {},
     "output_type": "execute_result"
    }
   ],
   "source": [
    "float_num = pd.Series([7.329654530264507, 6.063878045941967, 5.04491219048523, 9.3091499502492, 1.348729416198517])\n",
    "float_num"
   ]
  },
  {
   "cell_type": "code",
   "execution_count": 18,
   "id": "eac4451c",
   "metadata": {},
   "outputs": [
    {
     "data": {
      "text/plain": [
       "29.096324133139422"
      ]
     },
     "execution_count": 18,
     "metadata": {},
     "output_type": "execute_result"
    }
   ],
   "source": [
    "float_num.sum()"
   ]
  },
  {
   "cell_type": "code",
   "execution_count": 19,
   "id": "aeb81a8c",
   "metadata": {},
   "outputs": [
    {
     "data": {
      "text/plain": [
       "2815.285418428311"
      ]
     },
     "execution_count": 19,
     "metadata": {},
     "output_type": "execute_result"
    }
   ],
   "source": [
    "float_num.product()"
   ]
  },
  {
   "cell_type": "code",
   "execution_count": 20,
   "id": "20620834",
   "metadata": {},
   "outputs": [
    {
     "data": {
      "text/plain": [
       "5.819264826627885"
      ]
     },
     "execution_count": 20,
     "metadata": {},
     "output_type": "execute_result"
    }
   ],
   "source": [
    "float_num.mean() #avg"
   ]
  },
  {
   "cell_type": "code",
   "execution_count": 21,
   "id": "9fd4c315",
   "metadata": {},
   "outputs": [
    {
     "data": {
      "text/plain": [
       "6.063878045941967"
      ]
     },
     "execution_count": 21,
     "metadata": {},
     "output_type": "execute_result"
    }
   ],
   "source": [
    "float_num.median()"
   ]
  },
  {
   "cell_type": "code",
   "execution_count": null,
   "id": "b2e5f463",
   "metadata": {},
   "outputs": [],
   "source": []
  },
  {
   "cell_type": "markdown",
   "id": "6ef23cc3",
   "metadata": {},
   "source": [
    "# Intro to Attributes"
   ]
  },
  {
   "cell_type": "code",
   "execution_count": null,
   "id": "149b6882",
   "metadata": {},
   "outputs": [],
   "source": [
    "#It represents a characteristic or property of the object, providing information about its state or behavior. "
   ]
  },
  {
   "cell_type": "code",
   "execution_count": 22,
   "id": "569b3364",
   "metadata": {},
   "outputs": [
    {
     "data": {
      "text/plain": [
       "0        Smart\n",
       "1     Handsome\n",
       "2     Charming\n",
       "3    Brilliant\n",
       "4       Humble\n",
       "dtype: object"
      ]
     },
     "execution_count": 22,
     "metadata": {},
     "output_type": "execute_result"
    }
   ],
   "source": [
    "adjectives = pd.Series(['Smart','Handsome','Charming','Brilliant','Humble'])\n",
    "adjectives"
   ]
  },
  {
   "cell_type": "code",
   "execution_count": 23,
   "id": "2be8c5b9",
   "metadata": {},
   "outputs": [
    {
     "data": {
      "text/plain": [
       "5"
      ]
     },
     "execution_count": 23,
     "metadata": {},
     "output_type": "execute_result"
    }
   ],
   "source": [
    "adjectives.size"
   ]
  },
  {
   "cell_type": "code",
   "execution_count": 25,
   "id": "ed7383d4",
   "metadata": {},
   "outputs": [
    {
     "data": {
      "text/plain": [
       "True"
      ]
     },
     "execution_count": 25,
     "metadata": {},
     "output_type": "execute_result"
    }
   ],
   "source": [
    "adjectives.is_unique #series element are unique, no duplicates"
   ]
  },
  {
   "cell_type": "code",
   "execution_count": 26,
   "id": "cc3f0503",
   "metadata": {},
   "outputs": [
    {
     "data": {
      "text/plain": [
       "0        Smart\n",
       "1     Handsome\n",
       "2     Charming\n",
       "3    Brilliant\n",
       "4       Humble\n",
       "5        Smart\n",
       "dtype: object"
      ]
     },
     "execution_count": 26,
     "metadata": {},
     "output_type": "execute_result"
    }
   ],
   "source": [
    "adjectives = pd.Series(['Smart','Handsome','Charming','Brilliant','Humble','Smart'])\n",
    "adjectives"
   ]
  },
  {
   "cell_type": "code",
   "execution_count": 28,
   "id": "7a4ffe9d",
   "metadata": {},
   "outputs": [
    {
     "data": {
      "text/plain": [
       "False"
      ]
     },
     "execution_count": 28,
     "metadata": {},
     "output_type": "execute_result"
    }
   ],
   "source": [
    "adjectives.is_unique"
   ]
  },
  {
   "cell_type": "code",
   "execution_count": 29,
   "id": "bebf6890",
   "metadata": {},
   "outputs": [
    {
     "data": {
      "text/plain": [
       "array(['Smart', 'Handsome', 'Charming', 'Brilliant', 'Humble', 'Smart'],\n",
       "      dtype=object)"
      ]
     },
     "execution_count": 29,
     "metadata": {},
     "output_type": "execute_result"
    }
   ],
   "source": [
    "adjectives.values"
   ]
  },
  {
   "cell_type": "code",
   "execution_count": 30,
   "id": "93d5f678",
   "metadata": {},
   "outputs": [
    {
     "data": {
      "text/plain": [
       "numpy.ndarray"
      ]
     },
     "execution_count": 30,
     "metadata": {},
     "output_type": "execute_result"
    }
   ],
   "source": [
    "type(adjectives.values)"
   ]
  },
  {
   "cell_type": "code",
   "execution_count": 31,
   "id": "77cafce2",
   "metadata": {},
   "outputs": [
    {
     "data": {
      "text/plain": [
       "RangeIndex(start=0, stop=6, step=1)"
      ]
     },
     "execution_count": 31,
     "metadata": {},
     "output_type": "execute_result"
    }
   ],
   "source": [
    "adjectives.index"
   ]
  },
  {
   "cell_type": "code",
   "execution_count": 32,
   "id": "81676958",
   "metadata": {},
   "outputs": [
    {
     "data": {
      "text/plain": [
       "pandas.core.indexes.range.RangeIndex"
      ]
     },
     "execution_count": 32,
     "metadata": {},
     "output_type": "execute_result"
    }
   ],
   "source": [
    "type(adjectives.index)"
   ]
  },
  {
   "cell_type": "code",
   "execution_count": 33,
   "id": "08d61865",
   "metadata": {},
   "outputs": [
    {
     "data": {
      "text/plain": [
       "dtype('O')"
      ]
     },
     "execution_count": 33,
     "metadata": {},
     "output_type": "execute_result"
    }
   ],
   "source": [
    "adjectives.dtype # O for object"
   ]
  },
  {
   "cell_type": "code",
   "execution_count": 34,
   "id": "3dc557a5",
   "metadata": {},
   "outputs": [
    {
     "data": {
      "text/plain": [
       "apple        0.99\n",
       "banana       0.75\n",
       "orange       1.25\n",
       "grapes       2.50\n",
       "chocolate    2.99\n",
       "dtype: float64"
      ]
     },
     "execution_count": 34,
     "metadata": {},
     "output_type": "execute_result"
    }
   ],
   "source": [
    "food_prices = pd.Series({\n",
    "    \"apple\": 0.99,\n",
    "    \"banana\": 0.75,\n",
    "    \"orange\": 1.25,\n",
    "    \"grapes\": 2.50,\n",
    "    \"chocolate\": 2.99\n",
    "})\n",
    "food_prices"
   ]
  },
  {
   "cell_type": "code",
   "execution_count": 35,
   "id": "d65d047b",
   "metadata": {},
   "outputs": [
    {
     "data": {
      "text/plain": [
       "Index(['apple', 'banana', 'orange', 'grapes', 'chocolate'], dtype='object')"
      ]
     },
     "execution_count": 35,
     "metadata": {},
     "output_type": "execute_result"
    }
   ],
   "source": [
    "food_prices.index"
   ]
  },
  {
   "cell_type": "code",
   "execution_count": 36,
   "id": "e977cb4e",
   "metadata": {},
   "outputs": [
    {
     "data": {
      "text/plain": [
       "array([0.99, 0.75, 1.25, 2.5 , 2.99])"
      ]
     },
     "execution_count": 36,
     "metadata": {},
     "output_type": "execute_result"
    }
   ],
   "source": [
    "food_prices.values"
   ]
  },
  {
   "cell_type": "code",
   "execution_count": 38,
   "id": "8468a7ab",
   "metadata": {},
   "outputs": [
    {
     "data": {
      "text/plain": [
       "True"
      ]
     },
     "execution_count": 38,
     "metadata": {},
     "output_type": "execute_result"
    }
   ],
   "source": [
    "food_prices.is_unique"
   ]
  },
  {
   "cell_type": "code",
   "execution_count": null,
   "id": "5a06855a",
   "metadata": {},
   "outputs": [],
   "source": []
  },
  {
   "cell_type": "markdown",
   "id": "4c5668c7",
   "metadata": {},
   "source": [
    "# Attributes and Methods on a Series\n",
    "This exercise includes one Python file.\n",
    "\n",
    "Follow the instructions in the comments of the file to complete the challenge.\n",
    "\n",
    "import pandas as pd\n",
    "\n",
    "#The Series below stores the number of home runs\n",
    "#that a baseball player hit per game\n",
    "home_runs = pd.Series([3, 4, 8, 2])\n",
    "\n",
    "#Find the total number of home runs (i.e. the sum) and assign it\n",
    "#to the total_home_runs variable below\n",
    "total_home_runs =\n",
    "\n",
    "#Find the average number of home runs and assign it\n",
    "#to the average_home_runs variable below\n",
    "average_home_runs =\n",
    "\n",
    "\n"
   ]
  },
  {
   "cell_type": "code",
   "execution_count": null,
   "id": "5f594be3",
   "metadata": {},
   "outputs": [],
   "source": [
    "home_runs = pd.Series([3, 4, 8, 2])\n",
    "\n",
    "total_home_runs = home_runs.sum()\n",
    "\n",
    "average_home_runs = home_runs.mean()\n"
   ]
  },
  {
   "cell_type": "code",
   "execution_count": null,
   "id": "26dd1f97",
   "metadata": {},
   "outputs": [],
   "source": []
  },
  {
   "cell_type": "markdown",
   "id": "48accf75",
   "metadata": {},
   "source": [
    "# Parameters and Arguements"
   ]
  },
  {
   "cell_type": "code",
   "execution_count": 39,
   "id": "b0a1d427",
   "metadata": {},
   "outputs": [
    {
     "data": {
      "text/plain": [
       "Monday           Apple\n",
       "Tuesday         Orange\n",
       "Wednesday         Plum\n",
       "Thursday         Grape\n",
       "Friday       Blueberry\n",
       "dtype: object"
      ]
     },
     "execution_count": 39,
     "metadata": {},
     "output_type": "execute_result"
    }
   ],
   "source": [
    "fruits = ['Apple','Orange','Plum','Grape','Blueberry']\n",
    "weekdays = ['Monday','Tuesday','Wednesday','Thursday','Friday']\n",
    "\n",
    "pd.Series(fruits, weekdays) # data, index *ORDER MATTERS"
   ]
  },
  {
   "cell_type": "markdown",
   "id": "c03ccefd",
   "metadata": {},
   "source": [
    "Init signature:\n",
    "pd.Series(\n",
    "    data=None,\n",
    "    index=None,\n",
    "    dtype: 'Dtype | None' = None,\n",
    "    name=None,\n",
    "    copy: 'bool' = False,\n",
    "    fastpath: 'bool' = False,\n",
    ") -> 'None'\n",
    "Docstring:     \n",
    "One-dimensional ndarray with axis labels (including time series).\n",
    "\n",
    "PARAMETERS\n",
    "\n",
    "data : array-like, Iterable, dict, or scalar value\n",
    "    Contains data stored in Series. If data is a dict, argument order is\n",
    "    maintained.\n",
    "index : array-like or Index (1d)\n",
    "    Values must be hashable and have the same length as `data`.\n",
    "    Non-unique index values are allowed. Will default to\n",
    "    RangeIndex (0, 1, 2, ..., n) if not provided. If data is dict-like\n",
    "    and index is None, then the keys in the data are used as the index. If the\n",
    "    index is not None, the resulting Series is reindexed with the index values."
   ]
  },
  {
   "cell_type": "code",
   "execution_count": 44,
   "id": "869702c9",
   "metadata": {},
   "outputs": [
    {
     "data": {
      "text/plain": [
       "beef           burger\n",
       "pork       fried rice\n",
       "chicken         pasta\n",
       "fish              pie\n",
       "lamb            pizza\n",
       "dtype: object"
      ]
     },
     "execution_count": 44,
     "metadata": {},
     "output_type": "execute_result"
    }
   ],
   "source": [
    "Types_of_Meats = ['beef', 'pork', 'chicken', 'fish', 'lamb']\n",
    "Types_of_Food = ['burger', 'fried rice', 'pasta', 'pie', 'pizza']\n",
    "\n",
    "pd.Series(data = Types_of_Food, index = Types_of_Meats)"
   ]
  },
  {
   "cell_type": "markdown",
   "id": "768463d4",
   "metadata": {},
   "source": [
    "# Parameters and Arguments\n",
    "Follow the instructions in the comments of the file below to complete the assignment.\n",
    "\n",
    "Click the \"Check solution\" button to check your work.\n",
    "\n",
    "#If you see a test failure when checking your solution,\n",
    "#note that [left] refers to YOUR code while [right]\n",
    "#refers to the correct code that the computer is comparing\n",
    "#to your work\n",
    "\n",
    "#The code below defines a list of delicious foods\n",
    "#and some dipping sauces to dip them in\n",
    "import pandas as pd\n",
    "\n",
    "foods = [\"French Fries\", \"Chicken Nuggets\", \"Celery\", \"Carrots\"]\n",
    "dipping_sauces = [\"BBQ\", \"Honey Mustard\", \"Ranch\", \"Sriracha\"]\n",
    "\n",
    "#Create a Series and assign it to the s1 variable below. \n",
    "#Assign the foods list as the data source\n",
    "#and the dipping_sauces list as the Series index \n",
    "#For this solution, use positional arguments (i.e. feed in the arguments sequentially)\n",
    "s1 = \n",
    "\n",
    "\n",
    "#Create a Series and assign it to the s2 variable below. \n",
    "#Assign the dipping_sauces list as the data source\n",
    "#and the foods list as the Series index \n",
    "#For this solution, use keyword arguments (i.e. provide the parameter names\n",
    "#alongside the arguments)\n",
    "s2 = \n"
   ]
  },
  {
   "cell_type": "code",
   "execution_count": 47,
   "id": "55fff40d",
   "metadata": {},
   "outputs": [
    {
     "data": {
      "text/plain": [
       "BBQ                 French Fries\n",
       "Honey Mustard    Chicken Nuggets\n",
       "Ranch                     Celery\n",
       "Sriracha                 Carrots\n",
       "dtype: object"
      ]
     },
     "execution_count": 47,
     "metadata": {},
     "output_type": "execute_result"
    }
   ],
   "source": [
    "foods = [\"French Fries\", \"Chicken Nuggets\", \"Celery\", \"Carrots\"]\n",
    "dipping_sauces = [\"BBQ\", \"Honey Mustard\", \"Ranch\", \"Sriracha\"]\n",
    "\n",
    "s1 = pd.Series(foods, dipping_sauces)\n",
    "s1\n"
   ]
  },
  {
   "cell_type": "code",
   "execution_count": 48,
   "id": "c19edf4f",
   "metadata": {},
   "outputs": [
    {
     "data": {
      "text/plain": [
       "French Fries                 BBQ\n",
       "Chicken Nuggets    Honey Mustard\n",
       "Celery                     Ranch\n",
       "Carrots                 Sriracha\n",
       "dtype: object"
      ]
     },
     "execution_count": 48,
     "metadata": {},
     "output_type": "execute_result"
    }
   ],
   "source": [
    "foods = [\"French Fries\", \"Chicken Nuggets\", \"Celery\", \"Carrots\"]\n",
    "dipping_sauces = [\"BBQ\", \"Honey Mustard\", \"Ranch\", \"Sriracha\"]\n",
    "\n",
    "s2 = pd.Series(dipping_sauces, foods)\n",
    "s2"
   ]
  },
  {
   "cell_type": "code",
   "execution_count": null,
   "id": "f5ab4a01",
   "metadata": {},
   "outputs": [],
   "source": []
  },
  {
   "cell_type": "code",
   "execution_count": null,
   "id": "f7562494",
   "metadata": {},
   "outputs": [],
   "source": []
  },
  {
   "cell_type": "code",
   "execution_count": null,
   "id": "6c27813c",
   "metadata": {},
   "outputs": [],
   "source": []
  }
 ],
 "metadata": {
  "kernelspec": {
   "display_name": "Python 3 (ipykernel)",
   "language": "python",
   "name": "python3"
  },
  "language_info": {
   "codemirror_mode": {
    "name": "ipython",
    "version": 3
   },
   "file_extension": ".py",
   "mimetype": "text/x-python",
   "name": "python",
   "nbconvert_exporter": "python",
   "pygments_lexer": "ipython3",
   "version": "3.11.3"
  }
 },
 "nbformat": 4,
 "nbformat_minor": 5
}
