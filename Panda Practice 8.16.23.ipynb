{
 "cells": [
  {
   "cell_type": "markdown",
   "id": "fee169d1",
   "metadata": {},
   "source": [
    "# The get Method on a Series"
   ]
  },
  {
   "cell_type": "code",
   "execution_count": 1,
   "id": "555b574a",
   "metadata": {},
   "outputs": [],
   "source": [
    "import pandas as pd"
   ]
  },
  {
   "cell_type": "code",
   "execution_count": 2,
   "id": "46fc7da3",
   "metadata": {},
   "outputs": [
    {
     "data": {
      "text/plain": [
       "Pokemon\n",
       "Bulbasaur     Grass\n",
       "Ivysaur       Grass\n",
       "Venusaur      Grass\n",
       "Charmander     Fire\n",
       "Charmeleon     Fire\n",
       "Name: Type, dtype: object"
      ]
     },
     "execution_count": 2,
     "metadata": {},
     "output_type": "execute_result"
    }
   ],
   "source": [
    "pokemon = pd.read_csv('pokemon.csv', index_col = 'Pokemon').squeeze('columns')\n",
    "pokemon.head()"
   ]
  },
  {
   "cell_type": "code",
   "execution_count": 6,
   "id": "971142f1",
   "metadata": {},
   "outputs": [
    {
     "data": {
      "text/plain": [
       "'Grass'"
      ]
     },
     "execution_count": 6,
     "metadata": {},
     "output_type": "execute_result"
    }
   ],
   "source": [
    "pokemon[0]\n",
    "pokemon.get('Bulbasaur')\n",
    "pokemon.get(0)"
   ]
  },
  {
   "cell_type": "code",
   "execution_count": 7,
   "id": "2a0fe2d7",
   "metadata": {},
   "outputs": [],
   "source": [
    "None #is a special value that represents the absence of a value or a null value"
   ]
  },
  {
   "cell_type": "code",
   "execution_count": 8,
   "id": "0ef2bce5",
   "metadata": {},
   "outputs": [],
   "source": [
    "pokemon.get('Digimon')"
   ]
  },
  {
   "cell_type": "code",
   "execution_count": 9,
   "id": "a61d2ddf",
   "metadata": {},
   "outputs": [
    {
     "name": "stdout",
     "output_type": "stream",
     "text": [
      "None\n"
     ]
    }
   ],
   "source": [
    "print(pokemon.get('Digimon'))"
   ]
  },
  {
   "cell_type": "code",
   "execution_count": 11,
   "id": "045d38d4",
   "metadata": {},
   "outputs": [
    {
     "data": {
      "text/plain": [
       "'Nonexistent'"
      ]
     },
     "execution_count": 11,
     "metadata": {},
     "output_type": "execute_result"
    }
   ],
   "source": [
    "pokemon.get('Digimon', 'Nonexistent')"
   ]
  },
  {
   "cell_type": "code",
   "execution_count": 12,
   "id": "bd4bdc1e",
   "metadata": {},
   "outputs": [
    {
     "data": {
      "text/plain": [
       "'Electric'"
      ]
     },
     "execution_count": 12,
     "metadata": {},
     "output_type": "execute_result"
    }
   ],
   "source": [
    "pokemon.get('Pikachu', 'Nonexistent')"
   ]
  },
  {
   "cell_type": "code",
   "execution_count": 14,
   "id": "f86e0a63",
   "metadata": {},
   "outputs": [],
   "source": [
    "pokemon.get([\"Pikachu\", \"Bulbasaur\", \"Charmander\", \"Squirtle\", \"Jigglypuff\",\"Digimon\"])"
   ]
  },
  {
   "cell_type": "code",
   "execution_count": null,
   "id": "da17e656",
   "metadata": {},
   "outputs": [],
   "source": []
  },
  {
   "cell_type": "code",
   "execution_count": null,
   "id": "b32c38d7",
   "metadata": {},
   "outputs": [],
   "source": []
  },
  {
   "cell_type": "markdown",
   "id": "c2647478",
   "metadata": {},
   "source": [
    "# Overwrite a Series Value"
   ]
  },
  {
   "cell_type": "code",
   "execution_count": 20,
   "id": "4c2d161d",
   "metadata": {},
   "outputs": [
    {
     "data": {
      "text/plain": [
       "0     Bulbasaur\n",
       "1       Ivysaur\n",
       "2      Venusaur\n",
       "3    Charmander\n",
       "4    Charmeleon\n",
       "Name: Pokemon, dtype: object"
      ]
     },
     "execution_count": 20,
     "metadata": {},
     "output_type": "execute_result"
    }
   ],
   "source": [
    "pokemon = pd.read_csv('pokemon.csv', usecols = ['Pokemon']).squeeze('columns')\n",
    "pokemon.head()"
   ]
  },
  {
   "cell_type": "code",
   "execution_count": 21,
   "id": "0af5ecfe",
   "metadata": {},
   "outputs": [],
   "source": [
    "pokemon[0] = 'Borisaur'"
   ]
  },
  {
   "cell_type": "code",
   "execution_count": 22,
   "id": "9014c7c9",
   "metadata": {},
   "outputs": [
    {
     "data": {
      "text/plain": [
       "0      Borisaur\n",
       "1       Ivysaur\n",
       "2      Venusaur\n",
       "3    Charmander\n",
       "4    Charmeleon\n",
       "Name: Pokemon, dtype: object"
      ]
     },
     "execution_count": 22,
     "metadata": {},
     "output_type": "execute_result"
    }
   ],
   "source": [
    "pokemon.head()"
   ]
  },
  {
   "cell_type": "code",
   "execution_count": 24,
   "id": "d691131f",
   "metadata": {},
   "outputs": [
    {
     "data": {
      "text/plain": [
       "0        Borisaur\n",
       "1         Ivysaur\n",
       "2        Venusaur\n",
       "3      Charmander\n",
       "4      Charmeleon\n",
       "          ...    \n",
       "716       Yveltal\n",
       "717       Zygarde\n",
       "718       Diancie\n",
       "719         Hoopa\n",
       "720     Volcanion\n",
       "Name: Pokemon, Length: 721, dtype: object"
      ]
     },
     "execution_count": 24,
     "metadata": {},
     "output_type": "execute_result"
    }
   ],
   "source": [
    "pokemon"
   ]
  },
  {
   "cell_type": "code",
   "execution_count": 25,
   "id": "b264724a",
   "metadata": {},
   "outputs": [],
   "source": [
    "pokemon[1500] = 'Hello'"
   ]
  },
  {
   "cell_type": "code",
   "execution_count": 26,
   "id": "b28921f6",
   "metadata": {},
   "outputs": [
    {
     "data": {
      "text/plain": [
       "0         Borisaur\n",
       "1          Ivysaur\n",
       "2         Venusaur\n",
       "3       Charmander\n",
       "4       Charmeleon\n",
       "           ...    \n",
       "717        Zygarde\n",
       "718        Diancie\n",
       "719          Hoopa\n",
       "720      Volcanion\n",
       "1500         Hello\n",
       "Name: Pokemon, Length: 722, dtype: object"
      ]
     },
     "execution_count": 26,
     "metadata": {},
     "output_type": "execute_result"
    }
   ],
   "source": [
    "pokemon "
   ]
  },
  {
   "cell_type": "code",
   "execution_count": 29,
   "id": "7a7b12cb",
   "metadata": {},
   "outputs": [
    {
     "data": {
      "text/plain": [
       "1       Ivysaur\n",
       "2      Venusaur\n",
       "4    Charmeleon\n",
       "Name: Pokemon, dtype: object"
      ]
     },
     "execution_count": 29,
     "metadata": {},
     "output_type": "execute_result"
    }
   ],
   "source": [
    "pokemon[[1,2,4]]"
   ]
  },
  {
   "cell_type": "code",
   "execution_count": 30,
   "id": "bc04fa69",
   "metadata": {},
   "outputs": [],
   "source": [
    "pokemon[[1,2,4]] = ['Firemon','Watermon','Icemon']"
   ]
  },
  {
   "cell_type": "code",
   "execution_count": 31,
   "id": "5b92758c",
   "metadata": {},
   "outputs": [
    {
     "data": {
      "text/plain": [
       "1     Firemon\n",
       "2    Watermon\n",
       "4      Icemon\n",
       "Name: Pokemon, dtype: object"
      ]
     },
     "execution_count": 31,
     "metadata": {},
     "output_type": "execute_result"
    }
   ],
   "source": [
    "pokemon[[1,2,4]]"
   ]
  },
  {
   "cell_type": "code",
   "execution_count": 32,
   "id": "75b26194",
   "metadata": {},
   "outputs": [
    {
     "data": {
      "text/plain": [
       "Pokemon\n",
       "Bulbasaur     Grass\n",
       "Ivysaur       Grass\n",
       "Venusaur      Grass\n",
       "Charmander     Fire\n",
       "Charmeleon     Fire\n",
       "Name: Type, dtype: object"
      ]
     },
     "execution_count": 32,
     "metadata": {},
     "output_type": "execute_result"
    }
   ],
   "source": [
    "pokemon = pd.read_csv('pokemon.csv', index_col = 'Pokemon').squeeze('columns')\n",
    "pokemon.head()"
   ]
  },
  {
   "cell_type": "code",
   "execution_count": 33,
   "id": "35493103",
   "metadata": {},
   "outputs": [
    {
     "data": {
      "text/plain": [
       "'Grass'"
      ]
     },
     "execution_count": 33,
     "metadata": {},
     "output_type": "execute_result"
    }
   ],
   "source": [
    "pokemon['Bulbasaur']"
   ]
  },
  {
   "cell_type": "code",
   "execution_count": 37,
   "id": "1f166248",
   "metadata": {},
   "outputs": [],
   "source": [
    "pokemon['Bulbasaur'] = 'Coolmon'"
   ]
  },
  {
   "cell_type": "code",
   "execution_count": 38,
   "id": "9b1f36f9",
   "metadata": {},
   "outputs": [
    {
     "data": {
      "text/plain": [
       "'Coolmon'"
      ]
     },
     "execution_count": 38,
     "metadata": {},
     "output_type": "execute_result"
    }
   ],
   "source": [
    "pokemon['Bulbasaur']"
   ]
  },
  {
   "cell_type": "code",
   "execution_count": 39,
   "id": "8f202141",
   "metadata": {},
   "outputs": [
    {
     "data": {
      "text/plain": [
       "Pokemon\n",
       "Bulbasaur     Coolmon\n",
       "Ivysaur         Grass\n",
       "Venusaur        Grass\n",
       "Charmander       Fire\n",
       "Charmeleon       Fire\n",
       "Name: Type, dtype: object"
      ]
     },
     "execution_count": 39,
     "metadata": {},
     "output_type": "execute_result"
    }
   ],
   "source": [
    "pokemon.head()"
   ]
  },
  {
   "cell_type": "code",
   "execution_count": null,
   "id": "0bd92008",
   "metadata": {},
   "outputs": [],
   "source": []
  },
  {
   "cell_type": "markdown",
   "id": "3dc78368",
   "metadata": {},
   "source": [
    "# The copy Method"
   ]
  },
  {
   "cell_type": "code",
   "execution_count": 43,
   "id": "833cd35b",
   "metadata": {},
   "outputs": [],
   "source": [
    "pokemon_df = pd.read_csv('pokemon.csv', usecols = ['Pokemon'])\n",
    "pokemon_series = pokemon_df.squeeze('columns')"
   ]
  },
  {
   "cell_type": "code",
   "execution_count": 44,
   "id": "fbf640c4",
   "metadata": {},
   "outputs": [],
   "source": [
    "pokemon_series[0] = 'Whatever'"
   ]
  },
  {
   "cell_type": "code",
   "execution_count": 45,
   "id": "18a06f0a",
   "metadata": {},
   "outputs": [
    {
     "data": {
      "text/plain": [
       "0    Whatever\n",
       "Name: Pokemon, dtype: object"
      ]
     },
     "execution_count": 45,
     "metadata": {},
     "output_type": "execute_result"
    }
   ],
   "source": [
    "pokemon_series.head(1)"
   ]
  },
  {
   "cell_type": "code",
   "execution_count": 46,
   "id": "b7f964cf",
   "metadata": {},
   "outputs": [
    {
     "data": {
      "text/html": [
       "<div>\n",
       "<style scoped>\n",
       "    .dataframe tbody tr th:only-of-type {\n",
       "        vertical-align: middle;\n",
       "    }\n",
       "\n",
       "    .dataframe tbody tr th {\n",
       "        vertical-align: top;\n",
       "    }\n",
       "\n",
       "    .dataframe thead th {\n",
       "        text-align: right;\n",
       "    }\n",
       "</style>\n",
       "<table border=\"1\" class=\"dataframe\">\n",
       "  <thead>\n",
       "    <tr style=\"text-align: right;\">\n",
       "      <th></th>\n",
       "      <th>Pokemon</th>\n",
       "    </tr>\n",
       "  </thead>\n",
       "  <tbody>\n",
       "    <tr>\n",
       "      <th>0</th>\n",
       "      <td>Whatever</td>\n",
       "    </tr>\n",
       "    <tr>\n",
       "      <th>1</th>\n",
       "      <td>Ivysaur</td>\n",
       "    </tr>\n",
       "    <tr>\n",
       "      <th>2</th>\n",
       "      <td>Venusaur</td>\n",
       "    </tr>\n",
       "    <tr>\n",
       "      <th>3</th>\n",
       "      <td>Charmander</td>\n",
       "    </tr>\n",
       "    <tr>\n",
       "      <th>4</th>\n",
       "      <td>Charmeleon</td>\n",
       "    </tr>\n",
       "    <tr>\n",
       "      <th>...</th>\n",
       "      <td>...</td>\n",
       "    </tr>\n",
       "    <tr>\n",
       "      <th>716</th>\n",
       "      <td>Yveltal</td>\n",
       "    </tr>\n",
       "    <tr>\n",
       "      <th>717</th>\n",
       "      <td>Zygarde</td>\n",
       "    </tr>\n",
       "    <tr>\n",
       "      <th>718</th>\n",
       "      <td>Diancie</td>\n",
       "    </tr>\n",
       "    <tr>\n",
       "      <th>719</th>\n",
       "      <td>Hoopa</td>\n",
       "    </tr>\n",
       "    <tr>\n",
       "      <th>720</th>\n",
       "      <td>Volcanion</td>\n",
       "    </tr>\n",
       "  </tbody>\n",
       "</table>\n",
       "<p>721 rows × 1 columns</p>\n",
       "</div>"
      ],
      "text/plain": [
       "        Pokemon\n",
       "0      Whatever\n",
       "1       Ivysaur\n",
       "2      Venusaur\n",
       "3    Charmander\n",
       "4    Charmeleon\n",
       "..          ...\n",
       "716     Yveltal\n",
       "717     Zygarde\n",
       "718     Diancie\n",
       "719       Hoopa\n",
       "720   Volcanion\n",
       "\n",
       "[721 rows x 1 columns]"
      ]
     },
     "execution_count": 46,
     "metadata": {},
     "output_type": "execute_result"
    }
   ],
   "source": [
    "pokemon_df #side effect, untended consequence or behavior change that occurs when performing an action,"
   ]
  },
  {
   "cell_type": "code",
   "execution_count": null,
   "id": "6135189a",
   "metadata": {},
   "outputs": [],
   "source": []
  },
  {
   "cell_type": "code",
   "execution_count": 47,
   "id": "ca63ee51",
   "metadata": {},
   "outputs": [],
   "source": [
    "pokemon_df = pd.read_csv('pokemon.csv', usecols = ['Pokemon'])\n",
    "pokemon_series = pokemon_df.squeeze('columns').copy()"
   ]
  },
  {
   "cell_type": "code",
   "execution_count": 48,
   "id": "3d0a5c03",
   "metadata": {},
   "outputs": [],
   "source": [
    "pokemon_series[0] = 'Whatever'"
   ]
  },
  {
   "cell_type": "code",
   "execution_count": 49,
   "id": "de52b1b2",
   "metadata": {},
   "outputs": [
    {
     "data": {
      "text/plain": [
       "0    Whatever\n",
       "Name: Pokemon, dtype: object"
      ]
     },
     "execution_count": 49,
     "metadata": {},
     "output_type": "execute_result"
    }
   ],
   "source": [
    "pokemon_series.head(1)"
   ]
  },
  {
   "cell_type": "code",
   "execution_count": 50,
   "id": "1ac1a4dc",
   "metadata": {},
   "outputs": [
    {
     "data": {
      "text/html": [
       "<div>\n",
       "<style scoped>\n",
       "    .dataframe tbody tr th:only-of-type {\n",
       "        vertical-align: middle;\n",
       "    }\n",
       "\n",
       "    .dataframe tbody tr th {\n",
       "        vertical-align: top;\n",
       "    }\n",
       "\n",
       "    .dataframe thead th {\n",
       "        text-align: right;\n",
       "    }\n",
       "</style>\n",
       "<table border=\"1\" class=\"dataframe\">\n",
       "  <thead>\n",
       "    <tr style=\"text-align: right;\">\n",
       "      <th></th>\n",
       "      <th>Pokemon</th>\n",
       "    </tr>\n",
       "  </thead>\n",
       "  <tbody>\n",
       "    <tr>\n",
       "      <th>0</th>\n",
       "      <td>Bulbasaur</td>\n",
       "    </tr>\n",
       "    <tr>\n",
       "      <th>1</th>\n",
       "      <td>Ivysaur</td>\n",
       "    </tr>\n",
       "    <tr>\n",
       "      <th>2</th>\n",
       "      <td>Venusaur</td>\n",
       "    </tr>\n",
       "    <tr>\n",
       "      <th>3</th>\n",
       "      <td>Charmander</td>\n",
       "    </tr>\n",
       "    <tr>\n",
       "      <th>4</th>\n",
       "      <td>Charmeleon</td>\n",
       "    </tr>\n",
       "    <tr>\n",
       "      <th>...</th>\n",
       "      <td>...</td>\n",
       "    </tr>\n",
       "    <tr>\n",
       "      <th>716</th>\n",
       "      <td>Yveltal</td>\n",
       "    </tr>\n",
       "    <tr>\n",
       "      <th>717</th>\n",
       "      <td>Zygarde</td>\n",
       "    </tr>\n",
       "    <tr>\n",
       "      <th>718</th>\n",
       "      <td>Diancie</td>\n",
       "    </tr>\n",
       "    <tr>\n",
       "      <th>719</th>\n",
       "      <td>Hoopa</td>\n",
       "    </tr>\n",
       "    <tr>\n",
       "      <th>720</th>\n",
       "      <td>Volcanion</td>\n",
       "    </tr>\n",
       "  </tbody>\n",
       "</table>\n",
       "<p>721 rows × 1 columns</p>\n",
       "</div>"
      ],
      "text/plain": [
       "        Pokemon\n",
       "0     Bulbasaur\n",
       "1       Ivysaur\n",
       "2      Venusaur\n",
       "3    Charmander\n",
       "4    Charmeleon\n",
       "..          ...\n",
       "716     Yveltal\n",
       "717     Zygarde\n",
       "718     Diancie\n",
       "719       Hoopa\n",
       "720   Volcanion\n",
       "\n",
       "[721 rows x 1 columns]"
      ]
     },
     "execution_count": 50,
     "metadata": {},
     "output_type": "execute_result"
    }
   ],
   "source": [
    "pokemon_df"
   ]
  },
  {
   "cell_type": "code",
   "execution_count": null,
   "id": "7249fe39",
   "metadata": {},
   "outputs": [],
   "source": []
  },
  {
   "cell_type": "markdown",
   "id": "acc875a6",
   "metadata": {},
   "source": [
    "# The inplace Parameter"
   ]
  },
  {
   "cell_type": "code",
   "execution_count": 56,
   "id": "a7c0102d",
   "metadata": {},
   "outputs": [
    {
     "data": {
      "text/plain": [
       "0        50.12\n",
       "1        54.10\n",
       "2        54.65\n",
       "3        52.38\n",
       "4        52.95\n",
       "         ...  \n",
       "3007    772.88\n",
       "3008    771.07\n",
       "3009    773.18\n",
       "3010    771.61\n",
       "3011    782.22\n",
       "Name: Stock Price, Length: 3012, dtype: float64"
      ]
     },
     "execution_count": 56,
     "metadata": {},
     "output_type": "execute_result"
    }
   ],
   "source": [
    "google = (\n",
    "    pd.read_csv('google_stock_price.csv', usecols = ['Stock Price'])\n",
    "    .squeeze('columns')\n",
    "    .copy()\n",
    ")\n",
    "\n",
    "google"
   ]
  },
  {
   "cell_type": "code",
   "execution_count": 55,
   "id": "d888f3e6",
   "metadata": {},
   "outputs": [
    {
     "data": {
      "text/plain": [
       "11       49.95\n",
       "9        50.07\n",
       "0        50.12\n",
       "10       50.70\n",
       "12       50.74\n",
       "         ...  \n",
       "3010    771.61\n",
       "3007    772.88\n",
       "3009    773.18\n",
       "2859    776.60\n",
       "3011    782.22\n",
       "Name: Stock Price, Length: 3012, dtype: float64"
      ]
     },
     "execution_count": 55,
     "metadata": {},
     "output_type": "execute_result"
    }
   ],
   "source": [
    "google = google.sort_values()\n",
    "google"
   ]
  },
  {
   "cell_type": "code",
   "execution_count": 57,
   "id": "5b6d55db",
   "metadata": {},
   "outputs": [
    {
     "data": {
      "text/plain": [
       "0    50.12\n",
       "1    54.10\n",
       "2    54.65\n",
       "3    52.38\n",
       "4    52.95\n",
       "Name: Stock Price, dtype: float64"
      ]
     },
     "execution_count": 57,
     "metadata": {},
     "output_type": "execute_result"
    }
   ],
   "source": [
    "google.head()"
   ]
  },
  {
   "cell_type": "code",
   "execution_count": 59,
   "id": "c5cc183d",
   "metadata": {},
   "outputs": [],
   "source": [
    "google.sort_values(inplace = True)"
   ]
  },
  {
   "cell_type": "code",
   "execution_count": 60,
   "id": "0463e1b2",
   "metadata": {},
   "outputs": [
    {
     "data": {
      "text/plain": [
       "11       49.95\n",
       "9        50.07\n",
       "0        50.12\n",
       "10       50.70\n",
       "12       50.74\n",
       "         ...  \n",
       "3010    771.61\n",
       "3007    772.88\n",
       "3009    773.18\n",
       "2859    776.60\n",
       "3011    782.22\n",
       "Name: Stock Price, Length: 3012, dtype: float64"
      ]
     },
     "execution_count": 60,
     "metadata": {},
     "output_type": "execute_result"
    }
   ],
   "source": [
    "google"
   ]
  },
  {
   "cell_type": "code",
   "execution_count": 61,
   "id": "dba83bb2",
   "metadata": {},
   "outputs": [],
   "source": [
    "google.sort_index(inplace = True)"
   ]
  },
  {
   "cell_type": "code",
   "execution_count": 62,
   "id": "6ef2ae72",
   "metadata": {},
   "outputs": [
    {
     "data": {
      "text/plain": [
       "0        50.12\n",
       "1        54.10\n",
       "2        54.65\n",
       "3        52.38\n",
       "4        52.95\n",
       "         ...  \n",
       "3007    772.88\n",
       "3008    771.07\n",
       "3009    773.18\n",
       "3010    771.61\n",
       "3011    782.22\n",
       "Name: Stock Price, Length: 3012, dtype: float64"
      ]
     },
     "execution_count": 62,
     "metadata": {},
     "output_type": "execute_result"
    }
   ],
   "source": [
    "google"
   ]
  },
  {
   "cell_type": "code",
   "execution_count": 63,
   "id": "ac129d05",
   "metadata": {},
   "outputs": [],
   "source": [
    "google = (\n",
    "    pd.read_csv('google_stock_price.csv', usecols = ['Stock Price'])\n",
    "    .squeeze('columns')   \n",
    ")"
   ]
  },
  {
   "cell_type": "code",
   "execution_count": 66,
   "id": "449e25ce",
   "metadata": {},
   "outputs": [
    {
     "ename": "ValueError",
     "evalue": "This Series is a view of some other array, to sort in-place you must create a copy",
     "output_type": "error",
     "traceback": [
      "\u001b[1;31m---------------------------------------------------------------------------\u001b[0m",
      "\u001b[1;31mValueError\u001b[0m                                Traceback (most recent call last)",
      "Cell \u001b[1;32mIn[66], line 1\u001b[0m\n\u001b[1;32m----> 1\u001b[0m google\u001b[38;5;241m.\u001b[39msort_values(inplace \u001b[38;5;241m=\u001b[39m \u001b[38;5;28;01mTrue\u001b[39;00m)\n",
      "File \u001b[1;32m~\\anaconda3\\Lib\\site-packages\\pandas\\util\\_decorators.py:331\u001b[0m, in \u001b[0;36mdeprecate_nonkeyword_arguments.<locals>.decorate.<locals>.wrapper\u001b[1;34m(*args, **kwargs)\u001b[0m\n\u001b[0;32m    325\u001b[0m \u001b[38;5;28;01mif\u001b[39;00m \u001b[38;5;28mlen\u001b[39m(args) \u001b[38;5;241m>\u001b[39m num_allow_args:\n\u001b[0;32m    326\u001b[0m     warnings\u001b[38;5;241m.\u001b[39mwarn(\n\u001b[0;32m    327\u001b[0m         msg\u001b[38;5;241m.\u001b[39mformat(arguments\u001b[38;5;241m=\u001b[39m_format_argument_list(allow_args)),\n\u001b[0;32m    328\u001b[0m         \u001b[38;5;167;01mFutureWarning\u001b[39;00m,\n\u001b[0;32m    329\u001b[0m         stacklevel\u001b[38;5;241m=\u001b[39mfind_stack_level(),\n\u001b[0;32m    330\u001b[0m     )\n\u001b[1;32m--> 331\u001b[0m \u001b[38;5;28;01mreturn\u001b[39;00m func(\u001b[38;5;241m*\u001b[39margs, \u001b[38;5;241m*\u001b[39m\u001b[38;5;241m*\u001b[39mkwargs)\n",
      "File \u001b[1;32m~\\anaconda3\\Lib\\site-packages\\pandas\\core\\series.py:3748\u001b[0m, in \u001b[0;36mSeries.sort_values\u001b[1;34m(self, axis, ascending, inplace, kind, na_position, ignore_index, key)\u001b[0m\n\u001b[0;32m   3746\u001b[0m \u001b[38;5;66;03m# GH 5856/5853\u001b[39;00m\n\u001b[0;32m   3747\u001b[0m \u001b[38;5;28;01mif\u001b[39;00m inplace \u001b[38;5;129;01mand\u001b[39;00m \u001b[38;5;28mself\u001b[39m\u001b[38;5;241m.\u001b[39m_is_cached:\n\u001b[1;32m-> 3748\u001b[0m     \u001b[38;5;28;01mraise\u001b[39;00m \u001b[38;5;167;01mValueError\u001b[39;00m(\n\u001b[0;32m   3749\u001b[0m         \u001b[38;5;124m\"\u001b[39m\u001b[38;5;124mThis Series is a view of some other array, to \u001b[39m\u001b[38;5;124m\"\u001b[39m\n\u001b[0;32m   3750\u001b[0m         \u001b[38;5;124m\"\u001b[39m\u001b[38;5;124msort in-place you must create a copy\u001b[39m\u001b[38;5;124m\"\u001b[39m\n\u001b[0;32m   3751\u001b[0m     )\n\u001b[0;32m   3753\u001b[0m \u001b[38;5;28;01mif\u001b[39;00m is_list_like(ascending):\n\u001b[0;32m   3754\u001b[0m     ascending \u001b[38;5;241m=\u001b[39m cast(Sequence[Union[\u001b[38;5;28mbool\u001b[39m, \u001b[38;5;28mint\u001b[39m]], ascending)\n",
      "\u001b[1;31mValueError\u001b[0m: This Series is a view of some other array, to sort in-place you must create a copy"
     ]
    }
   ],
   "source": [
    "google.sort_values(inplace = True) #ValueError: This Series is a view of some other array, to sort in-place you must create a copy"
   ]
  },
  {
   "cell_type": "code",
   "execution_count": null,
   "id": "7c068704",
   "metadata": {},
   "outputs": [],
   "source": []
  },
  {
   "cell_type": "markdown",
   "id": "14494419",
   "metadata": {},
   "source": [
    "# Math Methods on Series Objects"
   ]
  },
  {
   "cell_type": "code",
   "execution_count": 68,
   "id": "5ebb3473",
   "metadata": {},
   "outputs": [],
   "source": [
    "google = pd.read_csv('google_stock_price.csv', usecols = ['Stock Price']).squeeze('columns')"
   ]
  },
  {
   "cell_type": "code",
   "execution_count": 69,
   "id": "344159c8",
   "metadata": {},
   "outputs": [
    {
     "data": {
      "text/plain": [
       "0    50.12\n",
       "1    54.10\n",
       "2    54.65\n",
       "3    52.38\n",
       "4    52.95\n",
       "Name: Stock Price, dtype: float64"
      ]
     },
     "execution_count": 69,
     "metadata": {},
     "output_type": "execute_result"
    }
   ],
   "source": [
    "google.head()"
   ]
  },
  {
   "cell_type": "code",
   "execution_count": 71,
   "id": "7f17085d",
   "metadata": {},
   "outputs": [
    {
     "data": {
      "text/plain": [
       "3012"
      ]
     },
     "execution_count": 71,
     "metadata": {},
     "output_type": "execute_result"
    }
   ],
   "source": [
    "google.count() #3012 stock prices"
   ]
  },
  {
   "cell_type": "code",
   "execution_count": 72,
   "id": "1ec7f99e",
   "metadata": {},
   "outputs": [
    {
     "data": {
      "text/plain": [
       "1006942.0"
      ]
     },
     "execution_count": 72,
     "metadata": {},
     "output_type": "execute_result"
    }
   ],
   "source": [
    "google.sum()"
   ]
  },
  {
   "cell_type": "code",
   "execution_count": 73,
   "id": "be5b32db",
   "metadata": {},
   "outputs": [
    {
     "data": {
      "text/plain": [
       "334.3100929614874"
      ]
     },
     "execution_count": 73,
     "metadata": {},
     "output_type": "execute_result"
    }
   ],
   "source": [
    "google.mean()"
   ]
  },
  {
   "cell_type": "code",
   "execution_count": 74,
   "id": "1ee70d89",
   "metadata": {},
   "outputs": [
    {
     "data": {
      "text/plain": [
       "inf"
      ]
     },
     "execution_count": 74,
     "metadata": {},
     "output_type": "execute_result"
    }
   ],
   "source": [
    "google.product()"
   ]
  },
  {
   "cell_type": "code",
   "execution_count": 75,
   "id": "2d8a478d",
   "metadata": {},
   "outputs": [
    {
     "data": {
      "text/plain": [
       "173.18720477113106"
      ]
     },
     "execution_count": 75,
     "metadata": {},
     "output_type": "execute_result"
    }
   ],
   "source": [
    "google.std()"
   ]
  },
  {
   "cell_type": "code",
   "execution_count": 76,
   "id": "541bac3d",
   "metadata": {},
   "outputs": [
    {
     "data": {
      "text/plain": [
       "49.95"
      ]
     },
     "execution_count": 76,
     "metadata": {},
     "output_type": "execute_result"
    }
   ],
   "source": [
    "google.min()"
   ]
  },
  {
   "cell_type": "code",
   "execution_count": 77,
   "id": "98c4b61d",
   "metadata": {},
   "outputs": [
    {
     "data": {
      "text/plain": [
       "782.22"
      ]
     },
     "execution_count": 77,
     "metadata": {},
     "output_type": "execute_result"
    }
   ],
   "source": [
    "google.max()"
   ]
  },
  {
   "cell_type": "code",
   "execution_count": 78,
   "id": "03d7406f",
   "metadata": {},
   "outputs": [
    {
     "data": {
      "text/plain": [
       "283.315"
      ]
     },
     "execution_count": 78,
     "metadata": {},
     "output_type": "execute_result"
    }
   ],
   "source": [
    "google.median()"
   ]
  },
  {
   "cell_type": "code",
   "execution_count": 79,
   "id": "722e0da0",
   "metadata": {},
   "outputs": [
    {
     "data": {
      "text/plain": [
       "0    291.21\n",
       "Name: Stock Price, dtype: float64"
      ]
     },
     "execution_count": 79,
     "metadata": {},
     "output_type": "execute_result"
    }
   ],
   "source": [
    "google.mode()"
   ]
  },
  {
   "cell_type": "code",
   "execution_count": 80,
   "id": "b24168e4",
   "metadata": {},
   "outputs": [
    {
     "data": {
      "text/plain": [
       "count    3012.000000\n",
       "mean      334.310093\n",
       "std       173.187205\n",
       "min        49.950000\n",
       "25%       218.045000\n",
       "50%       283.315000\n",
       "75%       443.000000\n",
       "max       782.220000\n",
       "Name: Stock Price, dtype: float64"
      ]
     },
     "execution_count": 80,
     "metadata": {},
     "output_type": "execute_result"
    }
   ],
   "source": [
    "google.describe()"
   ]
  },
  {
   "cell_type": "code",
   "execution_count": null,
   "id": "6d6f0f1c",
   "metadata": {},
   "outputs": [],
   "source": []
  },
  {
   "cell_type": "markdown",
   "id": "882e4fd5",
   "metadata": {},
   "source": [
    "# Broadcasting"
   ]
  },
  {
   "cell_type": "code",
   "execution_count": 81,
   "id": "7c7f326c",
   "metadata": {},
   "outputs": [
    {
     "data": {
      "text/plain": [
       "0        60.12\n",
       "1        64.10\n",
       "2        64.65\n",
       "3        62.38\n",
       "4        62.95\n",
       "         ...  \n",
       "3007    782.88\n",
       "3008    781.07\n",
       "3009    783.18\n",
       "3010    781.61\n",
       "3011    792.22\n",
       "Name: Stock Price, Length: 3012, dtype: float64"
      ]
     },
     "execution_count": 81,
     "metadata": {},
     "output_type": "execute_result"
    }
   ],
   "source": [
    "google + 10"
   ]
  },
  {
   "cell_type": "code",
   "execution_count": 82,
   "id": "fbef3e9f",
   "metadata": {},
   "outputs": [
    {
     "data": {
      "text/plain": [
       "0        20.12\n",
       "1        24.10\n",
       "2        24.65\n",
       "3        22.38\n",
       "4        22.95\n",
       "         ...  \n",
       "3007    742.88\n",
       "3008    741.07\n",
       "3009    743.18\n",
       "3010    741.61\n",
       "3011    752.22\n",
       "Name: Stock Price, Length: 3012, dtype: float64"
      ]
     },
     "execution_count": 82,
     "metadata": {},
     "output_type": "execute_result"
    }
   ],
   "source": [
    "google - 30"
   ]
  },
  {
   "cell_type": "code",
   "execution_count": 83,
   "id": "0c0f1fb5",
   "metadata": {},
   "outputs": [
    {
     "data": {
      "text/plain": [
       "0        501.2\n",
       "1        541.0\n",
       "2        546.5\n",
       "3        523.8\n",
       "4        529.5\n",
       "         ...  \n",
       "3007    7728.8\n",
       "3008    7710.7\n",
       "3009    7731.8\n",
       "3010    7716.1\n",
       "3011    7822.2\n",
       "Name: Stock Price, Length: 3012, dtype: float64"
      ]
     },
     "execution_count": 83,
     "metadata": {},
     "output_type": "execute_result"
    }
   ],
   "source": [
    "google * 10"
   ]
  },
  {
   "cell_type": "code",
   "execution_count": 84,
   "id": "fe5d3cab",
   "metadata": {},
   "outputs": [
    {
     "data": {
      "text/plain": [
       "0        25.060\n",
       "1        27.050\n",
       "2        27.325\n",
       "3        26.190\n",
       "4        26.475\n",
       "         ...   \n",
       "3007    386.440\n",
       "3008    385.535\n",
       "3009    386.590\n",
       "3010    385.805\n",
       "3011    391.110\n",
       "Name: Stock Price, Length: 3012, dtype: float64"
      ]
     },
     "execution_count": 84,
     "metadata": {},
     "output_type": "execute_result"
    }
   ],
   "source": [
    "google / 2"
   ]
  },
  {
   "cell_type": "code",
   "execution_count": 85,
   "id": "9337d730",
   "metadata": {},
   "outputs": [
    {
     "data": {
      "text/plain": [
       "0        60.12\n",
       "1        64.10\n",
       "2        64.65\n",
       "3        62.38\n",
       "4        62.95\n",
       "         ...  \n",
       "3007    782.88\n",
       "3008    781.07\n",
       "3009    783.18\n",
       "3010    781.61\n",
       "3011    792.22\n",
       "Name: Stock Price, Length: 3012, dtype: float64"
      ]
     },
     "execution_count": 85,
     "metadata": {},
     "output_type": "execute_result"
    }
   ],
   "source": [
    "google.add(10)"
   ]
  },
  {
   "cell_type": "code",
   "execution_count": 86,
   "id": "40688f2f",
   "metadata": {},
   "outputs": [
    {
     "data": {
      "text/plain": [
       "0        37.62\n",
       "1        41.60\n",
       "2        42.15\n",
       "3        39.88\n",
       "4        40.45\n",
       "         ...  \n",
       "3007    760.38\n",
       "3008    758.57\n",
       "3009    760.68\n",
       "3010    759.11\n",
       "3011    769.72\n",
       "Name: Stock Price, Length: 3012, dtype: float64"
      ]
     },
     "execution_count": 86,
     "metadata": {},
     "output_type": "execute_result"
    }
   ],
   "source": [
    "google.subtract(12.5)"
   ]
  },
  {
   "cell_type": "code",
   "execution_count": 87,
   "id": "06a22b98",
   "metadata": {},
   "outputs": [
    {
     "data": {
      "text/plain": [
       "0        501.2\n",
       "1        541.0\n",
       "2        546.5\n",
       "3        523.8\n",
       "4        529.5\n",
       "         ...  \n",
       "3007    7728.8\n",
       "3008    7710.7\n",
       "3009    7731.8\n",
       "3010    7716.1\n",
       "3011    7822.2\n",
       "Name: Stock Price, Length: 3012, dtype: float64"
      ]
     },
     "execution_count": 87,
     "metadata": {},
     "output_type": "execute_result"
    }
   ],
   "source": [
    "google.multiply(10)"
   ]
  },
  {
   "cell_type": "code",
   "execution_count": 88,
   "id": "33c321e4",
   "metadata": {},
   "outputs": [
    {
     "data": {
      "text/plain": [
       "0        16.706667\n",
       "1        18.033333\n",
       "2        18.216667\n",
       "3        17.460000\n",
       "4        17.650000\n",
       "           ...    \n",
       "3007    257.626667\n",
       "3008    257.023333\n",
       "3009    257.726667\n",
       "3010    257.203333\n",
       "3011    260.740000\n",
       "Name: Stock Price, Length: 3012, dtype: float64"
      ]
     },
     "execution_count": 88,
     "metadata": {},
     "output_type": "execute_result"
    }
   ],
   "source": [
    "google.divide(3)"
   ]
  },
  {
   "cell_type": "code",
   "execution_count": null,
   "id": "6f12ed1f",
   "metadata": {},
   "outputs": [],
   "source": []
  },
  {
   "cell_type": "markdown",
   "id": "e60d4ed7",
   "metadata": {},
   "source": [
    "# The value_counts Method"
   ]
  },
  {
   "cell_type": "code",
   "execution_count": 110,
   "id": "c809d65d",
   "metadata": {},
   "outputs": [
    {
     "data": {
      "text/plain": [
       "Pokemon\n",
       "Bulbasaur     Grass\n",
       "Ivysaur       Grass\n",
       "Venusaur      Grass\n",
       "Charmander     Fire\n",
       "Charmeleon     Fire\n",
       "Name: Type, dtype: object"
      ]
     },
     "execution_count": 110,
     "metadata": {},
     "output_type": "execute_result"
    }
   ],
   "source": [
    "pokemon = pd.read_csv('pokemon.csv', index_col= 'Pokemon').squeeze('columns')\n",
    "pokemon.head()"
   ]
  },
  {
   "cell_type": "code",
   "execution_count": 90,
   "id": "ff46494e",
   "metadata": {},
   "outputs": [
    {
     "data": {
      "text/plain": [
       "Water       105\n",
       "Normal       93\n",
       "Grass        66\n",
       "Bug          63\n",
       "Fire         47\n",
       "Psychic      47\n",
       "Rock         41\n",
       "Electric     36\n",
       "Ground       30\n",
       "Poison       28\n",
       "Dark         28\n",
       "Fighting     25\n",
       "Dragon       24\n",
       "Ghost        23\n",
       "Ice          23\n",
       "Steel        22\n",
       "Fairy        17\n",
       "Flying        3\n",
       "Name: Type, dtype: int64"
      ]
     },
     "execution_count": 90,
     "metadata": {},
     "output_type": "execute_result"
    }
   ],
   "source": [
    "pokemon.value_counts()"
   ]
  },
  {
   "cell_type": "code",
   "execution_count": 91,
   "id": "abc5c1c5",
   "metadata": {},
   "outputs": [
    {
     "data": {
      "text/plain": [
       "Flying        3\n",
       "Fairy        17\n",
       "Steel        22\n",
       "Ghost        23\n",
       "Ice          23\n",
       "Dragon       24\n",
       "Fighting     25\n",
       "Poison       28\n",
       "Dark         28\n",
       "Ground       30\n",
       "Electric     36\n",
       "Rock         41\n",
       "Psychic      47\n",
       "Fire         47\n",
       "Bug          63\n",
       "Grass        66\n",
       "Normal       93\n",
       "Water       105\n",
       "Name: Type, dtype: int64"
      ]
     },
     "execution_count": 91,
     "metadata": {},
     "output_type": "execute_result"
    }
   ],
   "source": [
    "pokemon.value_counts(ascending = True)"
   ]
  },
  {
   "cell_type": "code",
   "execution_count": 92,
   "id": "803104e4",
   "metadata": {},
   "outputs": [
    {
     "data": {
      "text/plain": [
       "Flying     3\n",
       "Fairy     17\n",
       "Steel     22\n",
       "Ghost     23\n",
       "Ice       23\n",
       "Name: Type, dtype: int64"
      ]
     },
     "execution_count": 92,
     "metadata": {},
     "output_type": "execute_result"
    }
   ],
   "source": [
    "pokemon.value_counts(ascending = True).head()"
   ]
  },
  {
   "cell_type": "code",
   "execution_count": 94,
   "id": "50d4e665",
   "metadata": {},
   "outputs": [
    {
     "data": {
      "text/plain": [
       "Water     105\n",
       "Normal     93\n",
       "Grass      66\n",
       "Bug        63\n",
       "Fire       47\n",
       "Name: Type, dtype: int64"
      ]
     },
     "execution_count": 94,
     "metadata": {},
     "output_type": "execute_result"
    }
   ],
   "source": [
    "pokemon.value_counts(sort = True).head()"
   ]
  },
  {
   "cell_type": "code",
   "execution_count": 96,
   "id": "49f44929",
   "metadata": {},
   "outputs": [
    {
     "data": {
      "text/plain": [
       "Water       14.563107\n",
       "Normal      12.898752\n",
       "Grass        9.153953\n",
       "Bug          8.737864\n",
       "Fire         6.518724\n",
       "Psychic      6.518724\n",
       "Rock         5.686546\n",
       "Electric     4.993065\n",
       "Ground       4.160888\n",
       "Poison       3.883495\n",
       "Dark         3.883495\n",
       "Fighting     3.467406\n",
       "Dragon       3.328710\n",
       "Ghost        3.190014\n",
       "Ice          3.190014\n",
       "Steel        3.051318\n",
       "Fairy        2.357836\n",
       "Flying       0.416089\n",
       "Name: Type, dtype: float64"
      ]
     },
     "execution_count": 96,
     "metadata": {},
     "output_type": "execute_result"
    }
   ],
   "source": [
    "pokemon.value_counts(normalize = True) * 100"
   ]
  },
  {
   "cell_type": "code",
   "execution_count": null,
   "id": "07a98b76",
   "metadata": {},
   "outputs": [],
   "source": []
  },
  {
   "cell_type": "code",
   "execution_count": null,
   "id": "5f4246a9",
   "metadata": {},
   "outputs": [],
   "source": []
  },
  {
   "cell_type": "markdown",
   "id": "bcf2e020",
   "metadata": {},
   "source": [
    "# The apply Method"
   ]
  },
  {
   "cell_type": "code",
   "execution_count": 97,
   "id": "626a5226",
   "metadata": {},
   "outputs": [
    {
     "data": {
      "text/plain": [
       "Pokemon\n",
       "Bulbasaur     Grass\n",
       "Ivysaur       Grass\n",
       "Venusaur      Grass\n",
       "Charmander     Fire\n",
       "Charmeleon     Fire\n",
       "Name: Type, dtype: object"
      ]
     },
     "execution_count": 97,
     "metadata": {},
     "output_type": "execute_result"
    }
   ],
   "source": [
    "pokemon.head()"
   ]
  },
  {
   "cell_type": "code",
   "execution_count": 98,
   "id": "d0d58963",
   "metadata": {},
   "outputs": [
    {
     "data": {
      "text/plain": [
       "721"
      ]
     },
     "execution_count": 98,
     "metadata": {},
     "output_type": "execute_result"
    }
   ],
   "source": [
    "len(pokemon)"
   ]
  },
  {
   "cell_type": "code",
   "execution_count": 99,
   "id": "dad5e2b9",
   "metadata": {},
   "outputs": [
    {
     "data": {
      "text/plain": [
       "Pokemon\n",
       "Bulbasaur     5\n",
       "Ivysaur       5\n",
       "Venusaur      5\n",
       "Charmander    4\n",
       "Charmeleon    4\n",
       "             ..\n",
       "Yveltal       4\n",
       "Zygarde       6\n",
       "Diancie       4\n",
       "Hoopa         7\n",
       "Volcanion     4\n",
       "Name: Type, Length: 721, dtype: int64"
      ]
     },
     "execution_count": 99,
     "metadata": {},
     "output_type": "execute_result"
    }
   ],
   "source": [
    "pokemon.apply(len)"
   ]
  },
  {
   "cell_type": "code",
   "execution_count": 100,
   "id": "700fe2ba",
   "metadata": {},
   "outputs": [
    {
     "data": {
      "text/plain": [
       "Pokemon\n",
       "Bulbasaur     5\n",
       "Ivysaur       5\n",
       "Venusaur      5\n",
       "Charmander    4\n",
       "Charmeleon    4\n",
       "Name: Type, dtype: int64"
      ]
     },
     "execution_count": 100,
     "metadata": {},
     "output_type": "execute_result"
    }
   ],
   "source": [
    "pokemon.apply(len).head()"
   ]
  },
  {
   "cell_type": "code",
   "execution_count": 101,
   "id": "97efe1c6",
   "metadata": {},
   "outputs": [],
   "source": [
    "def rank_pokemon(pokemon_type):\n",
    "    if pokemon_type in ['Grass', 'Fire', 'Water']:\n",
    "        return 'Classic'\n",
    "    elif pokemon_type == 'Normal':\n",
    "        return 'Boring'\n",
    "    else:\n",
    "        return 'TBD'"
   ]
  },
  {
   "cell_type": "code",
   "execution_count": 103,
   "id": "dd60b237",
   "metadata": {},
   "outputs": [
    {
     "data": {
      "text/plain": [
       "Pokemon\n",
       "Bulbasaur     Classic\n",
       "Ivysaur       Classic\n",
       "Venusaur      Classic\n",
       "Charmander    Classic\n",
       "Charmeleon    Classic\n",
       "               ...   \n",
       "Yveltal           TBD\n",
       "Zygarde           TBD\n",
       "Diancie           TBD\n",
       "Hoopa             TBD\n",
       "Volcanion     Classic\n",
       "Name: Type, Length: 721, dtype: object"
      ]
     },
     "execution_count": 103,
     "metadata": {},
     "output_type": "execute_result"
    }
   ],
   "source": [
    "pokemon.apply(rank_pokemon)"
   ]
  },
  {
   "cell_type": "code",
   "execution_count": 105,
   "id": "a0143b00",
   "metadata": {},
   "outputs": [
    {
     "data": {
      "text/plain": [
       "<function __main__.rank_pokemon(pokemon_type)>"
      ]
     },
     "execution_count": 105,
     "metadata": {},
     "output_type": "execute_result"
    }
   ],
   "source": [
    "rank_pokemon"
   ]
  },
  {
   "cell_type": "code",
   "execution_count": null,
   "id": "bd1b0763",
   "metadata": {},
   "outputs": [],
   "source": []
  },
  {
   "cell_type": "markdown",
   "id": "88fad216",
   "metadata": {},
   "source": [
    "# The map Method"
   ]
  },
  {
   "cell_type": "code",
   "execution_count": 106,
   "id": "f3032cc3",
   "metadata": {},
   "outputs": [
    {
     "data": {
      "text/plain": [
       "Pokemon\n",
       "Bulbasaur     Grass\n",
       "Ivysaur       Grass\n",
       "Venusaur      Grass\n",
       "Charmander     Fire\n",
       "Charmeleon     Fire\n",
       "Name: Type, dtype: object"
      ]
     },
     "execution_count": 106,
     "metadata": {},
     "output_type": "execute_result"
    }
   ],
   "source": [
    "pokemon.head()"
   ]
  },
  {
   "cell_type": "code",
   "execution_count": 118,
   "id": "7f636a71",
   "metadata": {},
   "outputs": [
    {
     "data": {
      "text/plain": [
       "Grass     Classic\n",
       "Fire      Classic\n",
       "Water     Classic\n",
       "Normal     Boring\n",
       "dtype: object"
      ]
     },
     "execution_count": 118,
     "metadata": {},
     "output_type": "execute_result"
    }
   ],
   "source": [
    "mappings = {\n",
    "    'Grass': 'Classic',\n",
    "    'Fire': 'Classic',\n",
    "    'Water': 'Classic',\n",
    "    'Normal': 'Boring'\n",
    "}\n",
    "\n",
    "mappings_series = pd.Series(mappings)\n",
    "mappings_series"
   ]
  },
  {
   "cell_type": "code",
   "execution_count": 119,
   "id": "55058b58",
   "metadata": {},
   "outputs": [
    {
     "data": {
      "text/plain": [
       "Pokemon\n",
       "Bulbasaur     Classic\n",
       "Ivysaur       Classic\n",
       "Venusaur      Classic\n",
       "Charmander    Classic\n",
       "Charmeleon    Classic\n",
       "               ...   \n",
       "Yveltal           NaN\n",
       "Zygarde           NaN\n",
       "Diancie           NaN\n",
       "Hoopa             NaN\n",
       "Volcanion     Classic\n",
       "Name: Type, Length: 721, dtype: object"
      ]
     },
     "execution_count": 119,
     "metadata": {},
     "output_type": "execute_result"
    }
   ],
   "source": [
    "pokemon.map(mappings_series)"
   ]
  },
  {
   "cell_type": "code",
   "execution_count": 116,
   "id": "ccadf6b6",
   "metadata": {},
   "outputs": [
    {
     "data": {
      "text/plain": [
       "Pokemon\n",
       "Yveltal         Dark\n",
       "Zygarde       Dragon\n",
       "Diancie         Rock\n",
       "Hoopa        Psychic\n",
       "Volcanion       Fire\n",
       "Name: Type, dtype: object"
      ]
     },
     "execution_count": 116,
     "metadata": {},
     "output_type": "execute_result"
    }
   ],
   "source": [
    "pokemon.tail() #NAN = Dark, Dragon, Rock ... etc"
   ]
  },
  {
   "cell_type": "code",
   "execution_count": null,
   "id": "588fa58a",
   "metadata": {},
   "outputs": [],
   "source": []
  },
  {
   "cell_type": "code",
   "execution_count": null,
   "id": "aa405d5e",
   "metadata": {},
   "outputs": [],
   "source": []
  },
  {
   "cell_type": "code",
   "execution_count": null,
   "id": "679323b6",
   "metadata": {},
   "outputs": [],
   "source": []
  }
 ],
 "metadata": {
  "kernelspec": {
   "display_name": "Python 3 (ipykernel)",
   "language": "python",
   "name": "python3"
  },
  "language_info": {
   "codemirror_mode": {
    "name": "ipython",
    "version": 3
   },
   "file_extension": ".py",
   "mimetype": "text/x-python",
   "name": "python",
   "nbconvert_exporter": "python",
   "pygments_lexer": "ipython3",
   "version": "3.11.3"
  }
 },
 "nbformat": 4,
 "nbformat_minor": 5
}
